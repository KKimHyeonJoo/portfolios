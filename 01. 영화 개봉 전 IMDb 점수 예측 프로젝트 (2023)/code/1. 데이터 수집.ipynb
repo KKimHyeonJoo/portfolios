{
 "cells": [
  {
   "cell_type": "markdown",
   "id": "4b7076b3",
   "metadata": {},
   "source": [
    "# IMDb Non-Commercial Datasets\n",
    "https://developer.imdb.com/non-commercial-datasets/"
   ]
  },
  {
   "cell_type": "code",
   "execution_count": 1,
   "id": "fbe9dada",
   "metadata": {},
   "outputs": [],
   "source": [
    "import gzip\n",
    "import shutil\n",
    "\n",
    "with gzip.open('gz/title.basics.tsv.gz', 'rb') as f_in:\n",
    "    with open('txt/title.basics.txt', 'wb') as f_out:\n",
    "        shutil.copyfileobj(f_in, f_out)\n",
    "\n",
    "with gzip.open('gz/title.principals.tsv.gz', 'rb') as f_in:\n",
    "    with open('txt/title.principals.txt', 'wb') as f_out:\n",
    "        shutil.copyfileobj(f_in, f_out)\n",
    "        \n",
    "with gzip.open('gz/title.crew.tsv.gz', 'rb') as f_in:\n",
    "    with open('txt/title.crew.txt', 'wb') as f_out:\n",
    "        shutil.copyfileobj(f_in, f_out)\n",
    "        \n",
    "with gzip.open('gz/title.ratings.tsv.gz', 'rb') as f_in:\n",
    "    with open('txt/title.ratings.txt', 'wb') as f_out:\n",
    "        shutil.copyfileobj(f_in, f_out)\n",
    "        \n",
    "with gzip.open('gz/name.basics.tsv.gz', 'rb') as f_in:\n",
    "    with open('txt/name.basics.txt', 'wb') as f_out:\n",
    "        shutil.copyfileobj(f_in, f_out)"
   ]
  },
  {
   "cell_type": "code",
   "execution_count": null,
   "id": "ea08bc3b",
   "metadata": {},
   "outputs": [],
   "source": []
  }
 ],
 "metadata": {
  "kernelspec": {
   "display_name": "Python 3 (ipykernel)",
   "language": "python",
   "name": "python3"
  },
  "language_info": {
   "codemirror_mode": {
    "name": "ipython",
    "version": 3
   },
   "file_extension": ".py",
   "mimetype": "text/x-python",
   "name": "python",
   "nbconvert_exporter": "python",
   "pygments_lexer": "ipython3",
   "version": "3.9.7"
  }
 },
 "nbformat": 4,
 "nbformat_minor": 5
}
